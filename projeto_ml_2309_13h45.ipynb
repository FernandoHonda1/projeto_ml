{
 "cells": [
  {
   "cell_type": "code",
   "execution_count": 1,
   "metadata": {},
   "outputs": [],
   "source": [
    "import pandas as pd\n",
    "import matplotlib.pyplot as plt\n",
    "df = pd.read_pickle('treino.pkl.gz')"
   ]
  },
  {
   "cell_type": "markdown",
   "metadata": {},
   "source": [
    "# IDADE"
   ]
  },
  {
   "cell_type": "code",
   "execution_count": 2,
   "metadata": {},
   "outputs": [
    {
     "data": {
      "text/plain": [
       "False    186523\n",
       "Name: nascimento, dtype: int64"
      ]
     },
     "execution_count": 2,
     "metadata": {},
     "output_type": "execute_result"
    }
   ],
   "source": [
    "df['nascimento'].isnull().value_counts()"
   ]
  },
  {
   "cell_type": "code",
   "execution_count": 3,
   "metadata": {},
   "outputs": [
    {
     "data": {
      "text/plain": [
       "array(['76', '97', '83', '94', '92', '80', '79', '95', '96', '72', '73',\n",
       "       '71', '88', '84', '61', '70', '75', '85', '69', '77', '67', '82',\n",
       "       '74', '89', '63', '64', '87', '65', '91', '81', '90', '78', '86',\n",
       "       '93', '99', '68', '62', '98', '55', '58', '59', '66', '00', '60',\n",
       "       '56', '54', '57', '49'], dtype=object)"
      ]
     },
     "execution_count": 3,
     "metadata": {},
     "output_type": "execute_result"
    }
   ],
   "source": [
    "# possíveis anos de nascimento\n",
    "# suponho que todos sejam '19--', com exceção de '1900', neste caso, considero que o ano seja '2000'\n",
    "df['nascimento'].str[6:].unique()"
   ]
  },
  {
   "cell_type": "code",
   "execution_count": 4,
   "metadata": {},
   "outputs": [],
   "source": [
    "def year_to_age(x):\n",
    "    if x == '00':\n",
    "        return 20\n",
    "    else:\n",
    "        return (100 - int(x)) + 20\n",
    "\n",
    "df['nascimento'] = df['nascimento'].str[6:].apply(lambda x: year_to_age(x))\n",
    "df = df.rename(columns = {'nascimento': 'idade'})"
   ]
  },
  {
   "cell_type": "markdown",
   "metadata": {},
   "source": [
    "# DATA CONTRATO"
   ]
  },
  {
   "cell_type": "code",
   "execution_count": 5,
   "metadata": {},
   "outputs": [
    {
     "data": {
      "text/plain": [
       "False    186523\n",
       "Name: data_contrato, dtype: int64"
      ]
     },
     "execution_count": 5,
     "metadata": {},
     "output_type": "execute_result"
    }
   ],
   "source": [
    "df['data_contrato'].isnull().value_counts()"
   ]
  },
  {
   "cell_type": "code",
   "execution_count": 6,
   "metadata": {},
   "outputs": [
    {
     "data": {
      "text/plain": [
       "array(['18'], dtype=object)"
      ]
     },
     "execution_count": 6,
     "metadata": {},
     "output_type": "execute_result"
    }
   ],
   "source": [
    "df['data_contrato'].str[6:].unique()\n",
    "\n",
    "# todos os contratos são de 2018"
   ]
  },
  {
   "cell_type": "code",
   "execution_count": 7,
   "metadata": {},
   "outputs": [
    {
     "data": {
      "text/plain": [
       "array(['09', '10', '08'], dtype=object)"
      ]
     },
     "execution_count": 7,
     "metadata": {},
     "output_type": "execute_result"
    }
   ],
   "source": [
    "df['data_contrato'].str[3:5].unique()\n",
    "\n",
    "# dentro do ano 2018, os possíveis meses são agosto, setembro e outubro\n",
    "# dividirei os dados entre estes meses"
   ]
  },
  {
   "cell_type": "code",
   "execution_count": 8,
   "metadata": {},
   "outputs": [],
   "source": [
    "def month_split(x):\n",
    "    if x == '08':\n",
    "        return 'agosto'\n",
    "    elif x == '09':\n",
    "        return 'setembro'\n",
    "    else: \n",
    "        return 'outubro'\n",
    "    \n",
    "df['data_contrato'] = df['data_contrato'].str[3:5].apply(lambda x: month_split(x))\n",
    "df = df.rename(columns = {'data_contrato': 'mes_contrato'})"
   ]
  },
  {
   "cell_type": "markdown",
   "metadata": {},
   "source": [
    "# SCORE"
   ]
  },
  {
   "cell_type": "code",
   "execution_count": 16,
   "metadata": {},
   "outputs": [
    {
     "name": "stdout",
     "output_type": "stream",
     "text": [
      "False    186523\n",
      "Name: score_desc, dtype: int64\n",
      "False    186523\n",
      "Name: score, dtype: int64\n"
     ]
    }
   ],
   "source": [
    "print(df['score_desc'].isnull().value_counts())\n",
    "print(df['score'].isnull().value_counts())"
   ]
  },
  {
   "cell_type": "code",
   "execution_count": 121,
   "metadata": {},
   "outputs": [
    {
     "data": {
      "text/plain": [
       "array(['F-Low Risk', 'A-Very Low Risk', 'C-Very Low Risk',\n",
       "       'H-Medium Risk', 'No Bureau History Available', 'M-Very High Risk',\n",
       "       'K-High Risk', 'B-Very Low Risk', 'I-Medium Risk',\n",
       "       'D-Very Low Risk', 'Not Scored: Only a Guarantor',\n",
       "       'Not Scored: No Updates available in last 36 months',\n",
       "       'Not Scored: No Activity seen on the customer (Inactive)',\n",
       "       'E-Low Risk', 'J-High Risk', 'G-Low Risk',\n",
       "       'Not Scored: Sufficient History Not Available',\n",
       "       'Not Scored: Not Enough Info available on the customer',\n",
       "       'L-Very High Risk',\n",
       "       'Not Scored: More than 50 active Accounts found'], dtype=object)"
      ]
     },
     "execution_count": 121,
     "metadata": {},
     "output_type": "execute_result"
    }
   ],
   "source": [
    "df['score_desc'].unique()"
   ]
  },
  {
   "cell_type": "code",
   "execution_count": 119,
   "metadata": {},
   "outputs": [
    {
     "name": "stdout",
     "output_type": "stream",
     "text": [
      "scores para dados \"Not Scored\" [ 0 14 18 16 15 17 11]\n"
     ]
    },
    {
     "data": {
      "text/plain": [
       "array(['No Bureau History Available', 'Not Scored: Only a Guarantor',\n",
       "       'Not Scored: No Updates available in last 36 months',\n",
       "       'Not Scored: No Activity seen on the customer (Inactive)',\n",
       "       'Not Scored: Sufficient History Not Available',\n",
       "       'Not Scored: Not Enough Info available on the customer',\n",
       "       'Not Scored: More than 50 active Accounts found'], dtype=object)"
      ]
     },
     "execution_count": 119,
     "metadata": {},
     "output_type": "execute_result"
    }
   ],
   "source": [
    "# valores de 'score_desc' que não continham a palavra 'Risk' ou 'risk'\n",
    "\n",
    "other_types = df.loc[(df['score_desc'].str.contains('Risk') == False) |\n",
    "                    (df['score_desc'].str.contains('Risk') == False),\n",
    "                    'score_desc'].unique()\n",
    "\n",
    "print('scores para dados \"Not Scored\"', df.loc[df['score_desc'].str.contains('No') == True]['score'].unique())\n",
    "\n",
    "other_types"
   ]
  },
  {
   "cell_type": "markdown",
   "metadata": {},
   "source": [
    "# justificando eliminar a coluna 'score'(utilizar 'score_desc')"
   ]
  },
  {
   "cell_type": "code",
   "execution_count": 120,
   "metadata": {},
   "outputs": [
    {
     "name": "stdout",
     "output_type": "stream",
     "text": [
      "['A-Very Low Risk' 'C-Very Low Risk' 'B-Very Low Risk' 'D-Very Low Risk']\n",
      "['F-Low Risk' 'E-Low Risk' 'G-Low Risk']\n",
      "['H-Medium Risk' 'I-Medium Risk']\n",
      "['K-High Risk' 'J-High Risk']\n",
      "['M-Very High Risk' 'L-Very High Risk']\n"
     ]
    }
   ],
   "source": [
    "# valores de 'score_desc' que continham palavra 'Risk'\n",
    "# o que querem dizer as letras?\n",
    "# são subgrupos de cada tipo de risco\n",
    "\n",
    "very_low =  df.loc[df['score_desc'].str.contains('Very Low')]\n",
    "low = df.loc[(df['score_desc'].str.contains('Low')) & (df['score_desc'].str.contains('Very') == False)]\n",
    "medium =  df.loc[df['score_desc'].str.contains('Medium')]\n",
    "high = df.loc[(df['score_desc'].str.contains('High')) &(df['score_desc'].str.contains('Very') == False)]\n",
    "very_high = df.loc[df['score_desc'].str.contains('Very High')]\n",
    "\n",
    "print(very_low['score_desc'].unique())\n",
    "print(low['score_desc'].unique())\n",
    "print(medium['score_desc'].unique())\n",
    "print(high['score_desc'].unique())\n",
    "print(very_high['score_desc'].unique())\n",
    "\n",
    "# Very Low Risk (A, B, C, D)\n",
    "# Low Risk (E, F, G)\n",
    "# Medium Risk (H, I)\n",
    "# High Risk (J, K)\n",
    "# Very High Risk (L, M)\n",
    "\n",
    "# o risco aumenta conforme se percorre o alfabeto"
   ]
  },
  {
   "cell_type": "code",
   "execution_count": 107,
   "metadata": {},
   "outputs": [
    {
     "data": {
      "text/html": [
       "<div>\n",
       "<style scoped>\n",
       "    .dataframe tbody tr th:only-of-type {\n",
       "        vertical-align: middle;\n",
       "    }\n",
       "\n",
       "    .dataframe tbody tr th {\n",
       "        vertical-align: top;\n",
       "    }\n",
       "\n",
       "    .dataframe thead th {\n",
       "        text-align: right;\n",
       "    }\n",
       "</style>\n",
       "<table border=\"1\" class=\"dataframe\">\n",
       "  <thead>\n",
       "    <tr style=\"text-align: right;\">\n",
       "      <th></th>\n",
       "      <th>score</th>\n",
       "    </tr>\n",
       "    <tr>\n",
       "      <th>risk_letter</th>\n",
       "      <th></th>\n",
       "    </tr>\n",
       "  </thead>\n",
       "  <tbody>\n",
       "    <tr>\n",
       "      <th>A</th>\n",
       "      <td>827.646657</td>\n",
       "    </tr>\n",
       "    <tr>\n",
       "      <th>B</th>\n",
       "      <td>774.158211</td>\n",
       "    </tr>\n",
       "    <tr>\n",
       "      <th>C</th>\n",
       "      <td>741.895311</td>\n",
       "    </tr>\n",
       "    <tr>\n",
       "      <th>D</th>\n",
       "      <td>715.966128</td>\n",
       "    </tr>\n",
       "    <tr>\n",
       "      <th>E</th>\n",
       "      <td>691.516206</td>\n",
       "    </tr>\n",
       "    <tr>\n",
       "      <th>F</th>\n",
       "      <td>666.132175</td>\n",
       "    </tr>\n",
       "    <tr>\n",
       "      <th>G</th>\n",
       "      <td>640.968760</td>\n",
       "    </tr>\n",
       "    <tr>\n",
       "      <th>H</th>\n",
       "      <td>617.100385</td>\n",
       "    </tr>\n",
       "    <tr>\n",
       "      <th>I</th>\n",
       "      <td>586.856651</td>\n",
       "    </tr>\n",
       "    <tr>\n",
       "      <th>J</th>\n",
       "      <td>549.820632</td>\n",
       "    </tr>\n",
       "    <tr>\n",
       "      <th>K</th>\n",
       "      <td>440.434968</td>\n",
       "    </tr>\n",
       "    <tr>\n",
       "      <th>L</th>\n",
       "      <td>326.409041</td>\n",
       "    </tr>\n",
       "    <tr>\n",
       "      <th>M</th>\n",
       "      <td>300.000000</td>\n",
       "    </tr>\n",
       "  </tbody>\n",
       "</table>\n",
       "</div>"
      ],
      "text/plain": [
       "                  score\n",
       "risk_letter            \n",
       "A            827.646657\n",
       "B            774.158211\n",
       "C            741.895311\n",
       "D            715.966128\n",
       "E            691.516206\n",
       "F            666.132175\n",
       "G            640.968760\n",
       "H            617.100385\n",
       "I            586.856651\n",
       "J            549.820632\n",
       "K            440.434968\n",
       "L            326.409041\n",
       "M            300.000000"
      ]
     },
     "execution_count": 107,
     "metadata": {},
     "output_type": "execute_result"
    }
   ],
   "source": [
    "# como se comporta o 'score', para cada 'score_desc'\n",
    "# dividir dados pela letra presente no 'score_desc'\n",
    "\n",
    "df_risk_letter = df.copy()\n",
    "df_risk_letter = df_risk_letter.loc[(df_risk_letter['score_desc'].str.contains('Risk')) |\n",
    "                   (df_risk_letter['score_desc'].str.contains('risk'))]\n",
    "df_risk_letter['risk_letter'] = df_risk_letter['score_desc'].str[0]\n",
    "df_risk_letter[['risk_letter', 'score']].groupby('risk_letter').mean()"
   ]
  },
  {
   "cell_type": "code",
   "execution_count": 106,
   "metadata": {},
   "outputs": [
    {
     "data": {
      "text/html": [
       "<div>\n",
       "<style scoped>\n",
       "    .dataframe tbody tr th:only-of-type {\n",
       "        vertical-align: middle;\n",
       "    }\n",
       "\n",
       "    .dataframe tbody tr th {\n",
       "        vertical-align: top;\n",
       "    }\n",
       "\n",
       "    .dataframe thead th {\n",
       "        text-align: right;\n",
       "    }\n",
       "</style>\n",
       "<table border=\"1\" class=\"dataframe\">\n",
       "  <thead>\n",
       "    <tr style=\"text-align: right;\">\n",
       "      <th></th>\n",
       "      <th>score</th>\n",
       "    </tr>\n",
       "    <tr>\n",
       "      <th>risk_word</th>\n",
       "      <th></th>\n",
       "    </tr>\n",
       "  </thead>\n",
       "  <tbody>\n",
       "    <tr>\n",
       "      <th>Very High Risk</th>\n",
       "      <td>303.005018</td>\n",
       "    </tr>\n",
       "    <tr>\n",
       "      <th>High Risk</th>\n",
       "      <td>474.778707</td>\n",
       "    </tr>\n",
       "    <tr>\n",
       "      <th>Medium Risk</th>\n",
       "      <td>603.669353</td>\n",
       "    </tr>\n",
       "    <tr>\n",
       "      <th>Low Risk</th>\n",
       "      <td>668.648474</td>\n",
       "    </tr>\n",
       "    <tr>\n",
       "      <th>Very Low Risk</th>\n",
       "      <td>765.769443</td>\n",
       "    </tr>\n",
       "  </tbody>\n",
       "</table>\n",
       "</div>"
      ],
      "text/plain": [
       "                     score\n",
       "risk_word                 \n",
       "Very High Risk  303.005018\n",
       "High Risk       474.778707\n",
       "Medium Risk     603.669353\n",
       "Low Risk        668.648474\n",
       "Very Low Risk   765.769443"
      ]
     },
     "execution_count": 106,
     "metadata": {},
     "output_type": "execute_result"
    }
   ],
   "source": [
    "# dividir dados pelo valor presente no 'score_desc', desconsiderando a letra\n",
    "\n",
    "df_risk_word = df.copy()\n",
    "df_risk_word = df_risk_word.loc[(df_risk_word['score_desc'].str.contains('Risk')) |\n",
    "                 (df_risk_word['score_desc'].str.contains('risk'))]\n",
    "df_risk_word['risk_word'] = df_risk_word['score_desc'].str[2:]\n",
    "df_risk_word[['risk_word', 'score']].groupby('risk_word').mean().sort_values('score')"
   ]
  },
  {
   "cell_type": "code",
   "execution_count": null,
   "metadata": {},
   "outputs": [],
   "source": [
    "# podemos eliminar a coluna 'score' posto que esta é correlacionada à 'score_desc', \n",
    "# a coluna 'score_desc' pode ser dividir os dados tanto pelo tipo de risco, quanto pela letra que \n",
    "# acompanha a descrição(esta seria mais precisa)\n",
    "\n",
    "# como tratar dados 'Not Scored'?"
   ]
  },
  {
   "cell_type": "markdown",
   "metadata": {},
   "source": [
    "# PLOTS"
   ]
  },
  {
   "cell_type": "code",
   "execution_count": 9,
   "metadata": {},
   "outputs": [],
   "source": [
    "plt.style.use('dark_background')\n",
    "plt.rcParams['figure.figsize'] = (20, 8)\n",
    "\n",
    "def plot_default_freq(dataframe, series_name, integer = False):\n",
    "    \n",
    "    vals = []\n",
    "    df_aux = dataframe.copy()\n",
    "    \n",
    "    if integer == True:    \n",
    "        df_aux[series_name] = df_aux[series_name].astype(int)\n",
    "        for val in df_aux[series_name].unique():\n",
    "            vals.append(val)\n",
    "        vals.sort()\n",
    "        df_aux[series_name] = df_aux[series_name].astype(str)\n",
    "        \n",
    "    if integer == False:\n",
    "        for val in df_aux[series_name].unique():\n",
    "            vals.append(val)\n",
    "            \n",
    "    data_list = []\n",
    "    for value in vals:\n",
    "        exec(\"df_{0} = df_aux.loc[df_aux[series_name] == '{0}']\".format(value))\n",
    "        exec(\"data_list.append(df_{0})\".format(value))\n",
    "    \n",
    "    pos = 0\n",
    "    for data in data_list:\n",
    "        plt.bar([pos], [len(data)], color = 'green')\n",
    "        plt.bar([pos], [len(data[data['default'] == 1])], color = 'red')\n",
    "        pos += 1\n",
    "        \n",
    "    plt.xticks(range(len(vals)), vals)\n",
    "    plt.xticks(rotation = 45)\n",
    "    plt.yticks([])\n",
    "    plt.show()"
   ]
  },
  {
   "cell_type": "code",
   "execution_count": 10,
   "metadata": {},
   "outputs": [],
   "source": [
    "# plot_default_freq(df, 'idade', integer = True)"
   ]
  },
  {
   "cell_type": "code",
   "execution_count": 11,
   "metadata": {},
   "outputs": [],
   "source": [
    "# plot_default_freq(df, 'mes_contrato', integer = False)"
   ]
  },
  {
   "cell_type": "code",
   "execution_count": 12,
   "metadata": {},
   "outputs": [],
   "source": [
    "# plot_default_freq(df, 'agencia', integer = True)"
   ]
  },
  {
   "cell_type": "code",
   "execution_count": null,
   "metadata": {},
   "outputs": [],
   "source": []
  }
 ],
 "metadata": {
  "kernelspec": {
   "display_name": "Python 3",
   "language": "python",
   "name": "python3"
  },
  "language_info": {
   "codemirror_mode": {
    "name": "ipython",
    "version": 3
   },
   "file_extension": ".py",
   "mimetype": "text/x-python",
   "name": "python",
   "nbconvert_exporter": "python",
   "pygments_lexer": "ipython3",
   "version": "3.7.4"
  }
 },
 "nbformat": 4,
 "nbformat_minor": 2
}
