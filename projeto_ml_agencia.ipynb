{
 "cells": [
  {
   "cell_type": "code",
   "execution_count": 1,
   "metadata": {},
   "outputs": [],
   "source": [
    "import numpy as np\n",
    "import matplotlib.pyplot as plt\n",
    "import pandas as pd\n",
    "from scipy.stats import chi2_contingency\n",
    "from scipy.stats import chi2\n",
    "\n",
    "df = pd.read_pickle('treino.pkl.gz')"
   ]
  },
  {
   "cell_type": "code",
   "execution_count": 2,
   "metadata": {},
   "outputs": [],
   "source": [
    "plt.style.use('dark_background')\n",
    "plt.rcParams['figure.figsize'] = (20, 8)"
   ]
  },
  {
   "cell_type": "code",
   "execution_count": 3,
   "metadata": {},
   "outputs": [
    {
     "name": "stdout",
     "output_type": "stream",
     "text": [
      "0\n",
      "82\n"
     ]
    }
   ],
   "source": [
    "# dividir dados entre as maiores agencias, alocar todas as agencias pequenas sob o label 'outras'\n",
    "print(df['agencia'].isnull().sum())\n",
    "print(len(df['agencia'].unique()))"
   ]
  },
  {
   "cell_type": "code",
   "execution_count": 4,
   "metadata": {},
   "outputs": [],
   "source": [
    "def categorize_agency(x, top_indexes):\n",
    "    if x in top_indexes:\n",
    "        return str(x)\n",
    "    else:\n",
    "        return 'other'\n",
    "    \n",
    "top_agency_indexes = df['agencia'].value_counts().head(14).index.tolist()    \n",
    "df['agencia'] = df['agencia'].apply(lambda x: categorize_agency(x, top_agency_indexes))"
   ]
  },
  {
   "cell_type": "code",
   "execution_count": 5,
   "metadata": {},
   "outputs": [
    {
     "data": {
      "text/plain": [
       "0.5467207797429807"
      ]
     },
     "execution_count": 5,
     "metadata": {},
     "output_type": "execute_result"
    }
   ],
   "source": [
    "# aproximadamente metade dos dados foram alocados sob o label 'other'\n",
    "\n",
    "len(df.loc[df['agencia'] == 'other']) / len(df)"
   ]
  },
  {
   "cell_type": "code",
   "execution_count": 6,
   "metadata": {},
   "outputs": [
    {
     "data": {
      "text/html": [
       "<div>\n",
       "<style scoped>\n",
       "    .dataframe tbody tr th:only-of-type {\n",
       "        vertical-align: middle;\n",
       "    }\n",
       "\n",
       "    .dataframe tbody tr th {\n",
       "        vertical-align: top;\n",
       "    }\n",
       "\n",
       "    .dataframe thead th {\n",
       "        text-align: right;\n",
       "    }\n",
       "</style>\n",
       "<table border=\"1\" class=\"dataframe\">\n",
       "  <thead>\n",
       "    <tr style=\"text-align: right;\">\n",
       "      <th>default</th>\n",
       "      <th>0</th>\n",
       "      <th>1</th>\n",
       "    </tr>\n",
       "    <tr>\n",
       "      <th>agencia</th>\n",
       "      <th></th>\n",
       "      <th></th>\n",
       "    </tr>\n",
       "  </thead>\n",
       "  <tbody>\n",
       "    <tr>\n",
       "      <th>1</th>\n",
       "      <td>3917</td>\n",
       "      <td>675</td>\n",
       "    </tr>\n",
       "    <tr>\n",
       "      <th>136</th>\n",
       "      <td>4890</td>\n",
       "      <td>1369</td>\n",
       "    </tr>\n",
       "    <tr>\n",
       "      <th>146</th>\n",
       "      <td>3069</td>\n",
       "      <td>1198</td>\n",
       "    </tr>\n",
       "    <tr>\n",
       "      <th>152</th>\n",
       "      <td>3447</td>\n",
       "      <td>522</td>\n",
       "    </tr>\n",
       "    <tr>\n",
       "      <th>16</th>\n",
       "      <td>3694</td>\n",
       "      <td>1474</td>\n",
       "    </tr>\n",
       "    <tr>\n",
       "      <th>18</th>\n",
       "      <td>3067</td>\n",
       "      <td>941</td>\n",
       "    </tr>\n",
       "    <tr>\n",
       "      <th>19</th>\n",
       "      <td>3934</td>\n",
       "      <td>744</td>\n",
       "    </tr>\n",
       "    <tr>\n",
       "      <th>2</th>\n",
       "      <td>8516</td>\n",
       "      <td>1965</td>\n",
       "    </tr>\n",
       "    <tr>\n",
       "      <th>3</th>\n",
       "      <td>6147</td>\n",
       "      <td>1272</td>\n",
       "    </tr>\n",
       "    <tr>\n",
       "      <th>34</th>\n",
       "      <td>5121</td>\n",
       "      <td>1103</td>\n",
       "    </tr>\n",
       "    <tr>\n",
       "      <th>36</th>\n",
       "      <td>4983</td>\n",
       "      <td>2075</td>\n",
       "    </tr>\n",
       "    <tr>\n",
       "      <th>5</th>\n",
       "      <td>5766</td>\n",
       "      <td>1630</td>\n",
       "    </tr>\n",
       "    <tr>\n",
       "      <th>61</th>\n",
       "      <td>3037</td>\n",
       "      <td>875</td>\n",
       "    </tr>\n",
       "    <tr>\n",
       "      <th>67</th>\n",
       "      <td>7367</td>\n",
       "      <td>1749</td>\n",
       "    </tr>\n",
       "    <tr>\n",
       "      <th>other</th>\n",
       "      <td>79206</td>\n",
       "      <td>22770</td>\n",
       "    </tr>\n",
       "  </tbody>\n",
       "</table>\n",
       "</div>"
      ],
      "text/plain": [
       "default      0      1\n",
       "agencia              \n",
       "1         3917    675\n",
       "136       4890   1369\n",
       "146       3069   1198\n",
       "152       3447    522\n",
       "16        3694   1474\n",
       "18        3067    941\n",
       "19        3934    744\n",
       "2         8516   1965\n",
       "3         6147   1272\n",
       "34        5121   1103\n",
       "36        4983   2075\n",
       "5         5766   1630\n",
       "61        3037    875\n",
       "67        7367   1749\n",
       "other    79206  22770"
      ]
     },
     "execution_count": 6,
     "metadata": {},
     "output_type": "execute_result"
    }
   ],
   "source": [
    "pd.crosstab(df['agencia'], df['default'])"
   ]
  },
  {
   "cell_type": "code",
   "execution_count": 7,
   "metadata": {},
   "outputs": [
    {
     "name": "stdout",
     "output_type": "stream",
     "text": [
      "1156.4643153036002\n",
      "23.684791304840576\n"
     ]
    }
   ],
   "source": [
    "est, p, dof, exp = chi2_contingency(pd.crosstab(df['agencia'], df['default']))\n",
    "print(est)\n",
    "print(chi2.ppf(q = 0.95, df = dof))"
   ]
  },
  {
   "cell_type": "code",
   "execution_count": 8,
   "metadata": {},
   "outputs": [],
   "source": [
    "agency_def_prop = []\n",
    "for ag in df['agencia'].unique():\n",
    "    agency_def_prop.append([round(df.loc[df['agencia'] == ag, 'default'].value_counts(1).iloc[1], 2), str(ag)])\n",
    "\n",
    "agency_def_prop.sort()\n",
    "\n",
    "ag_props = [i[0] for i in agency_def_prop]\n",
    "ag_ticks = [i[1] for i in agency_def_prop]"
   ]
  },
  {
   "cell_type": "code",
   "execution_count": 9,
   "metadata": {},
   "outputs": [
    {
     "data": {
      "image/png": "[encoded data removed]",
      "text/plain": [
       "<Figure size 1440x576 with 1 Axes>"
      ]
     },
     "metadata": {},
     "output_type": "display_data"
    }
   ],
   "source": [
    "pos = 0\n",
    "tick_pos = []\n",
    "for i in ag_props:\n",
    "    plt.bar([pos], [i], width = 0.1, color = 'red')\n",
    "    tick_pos.append(pos)\n",
    "    pos += 0.15\n",
    "plt.xticks(ticks = tick_pos, labels = ag_ticks)\n",
    "plt.show()"
   ]
  },
  {
   "cell_type": "code",
   "execution_count": 10,
   "metadata": {},
   "outputs": [
    {
     "data": {
      "image/png": "[encoded data removed]",
      "text/plain": [
       "<Figure size 1440x576 with 1 Axes>"
      ]
     },
     "metadata": {},
     "output_type": "display_data"
    }
   ],
   "source": [
    "# quantos dados compõe cada grupo ? (com exceção de 'other', que consiste em metade dos dados)\n",
    "\n",
    "new_props = []\n",
    "new_ticks = []\n",
    "for i in zip(ag_props, ag_ticks):\n",
    "    if i[1] != 'other':\n",
    "        new_props.append(i[0])\n",
    "        new_ticks.append(i[1])\n",
    "\n",
    "pos = 0\n",
    "tick_pos = []\n",
    "for ag in new_ticks:\n",
    "    plt.bar([pos], [ len(df.loc[df['agencia'] == ag]) ], width = 0.1, color = 'red')\n",
    "    tick_pos.append(pos)\n",
    "    pos += 0.15\n",
    "plt.xticks(ticks = tick_pos, labels = new_ticks)\n",
    "plt.show()"
   ]
  },
  {
   "cell_type": "code",
   "execution_count": 35,
   "metadata": {},
   "outputs": [],
   "source": [
    "# reduzir o número de valores possíveis para 'agencia' ?\n",
    "# ex: três labels, cada um contendo um range de proporções de 'default'"
   ]
  }
 ],
 "metadata": {
  "kernelspec": {
   "display_name": "Python 3",
   "language": "python",
   "name": "python3"
  },
  "language_info": {
   "codemirror_mode": {
    "name": "ipython",
    "version": 3
   },
   "file_extension": ".py",
   "mimetype": "text/x-python",
   "name": "python",
   "nbconvert_exporter": "python",
   "pygments_lexer": "ipython3",
   "version": "3.7.4"
  }
 },
 "nbformat": 4,
 "nbformat_minor": 2
}
