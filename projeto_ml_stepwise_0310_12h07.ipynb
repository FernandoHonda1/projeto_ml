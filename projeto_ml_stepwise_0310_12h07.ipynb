{
 "cells": [
  {
   "cell_type": "code",
   "execution_count": 1,
   "metadata": {},
   "outputs": [],
   "source": [
    "import numpy as np\n",
    "import matplotlib.pyplot as plt\n",
    "import pandas as pd\n",
    "from sklearn.linear_model import LogisticRegression\n",
    "from sklearn.metrics import roc_auc_score\n",
    "from sklearn.preprocessing import MinMaxScaler\n",
    "\n",
    "df = pd.read_pickle('treino.pkl.gz')\n",
    "\n",
    "df = df[['pri_qtd_tot_emp', 'pri_qtd_tot_emp_atv', 'pri_qtd_tot_def',\n",
    "       'pri_emp_abt', 'pri_emp_san', 'pri_emp_tom', 'default']]"
   ]
  },
  {
   "cell_type": "code",
   "execution_count": 2,
   "metadata": {},
   "outputs": [],
   "source": [
    "def pre_proc_and_split(dataframe, target):\n",
    "\n",
    "    cols = dataframe.columns.tolist()\n",
    "    cols.remove(target)\n",
    "    for i in cols:\n",
    "        sc = MinMaxScaler()\n",
    "        dataframe[i] = sc.fit_transform(dataframe[[i]])\n",
    "    return dataframe[cols], df[target]\n",
    "\n",
    "def step(scaled_feats, target):\n",
    "    lr = LogisticRegression()\n",
    "    lr.fit(scaled_feats, target)\n",
    "    pred = lr.predict_proba(scaled_feats)\n",
    "    \n",
    "    pr = [i[1] for i in pred]\n",
    "\n",
    "    score = roc_auc_score(y_true = target, y_score = pr) \n",
    "\n",
    "    cfs = lr.coef_.tolist()[0]\n",
    "    cfs = [abs(i) for i in cfs]\n",
    "    lista = [i for i in zip(cfs, scaled_feats.columns)]\n",
    "    lista.sort()\n",
    "    data_cfs = [i[0] for i in lista]\n",
    "    data_feats = [i[1] for i in lista]\n",
    "\n",
    "    dropd = lista[0][1]\n",
    "    lista = lista[1:]\n",
    "    remaining_feats = [i[1] for i in lista]\n",
    "    \n",
    "    return remaining_feats, score, dropd\n",
    "\n",
    "def my_stepwise(dataframe, target):\n",
    "    itr = len(dataframe.drop(columns = [target]).columns.tolist()) \n",
    "    dici = {}\n",
    "\n",
    "    for n in range(itr):\n",
    "    \n",
    "        scaled_feats, target = pre_proc_and_split(dataframe, 'default')\n",
    "        remaining, score, dropd = step(scaled_feats, target)\n",
    "        dici[n] = [score, dataframe.columns.tolist()]\n",
    "        dataframe = dataframe.drop(columns = [dropd])\n",
    "        \n",
    "    return dici"
   ]
  },
  {
   "cell_type": "code",
   "execution_count": 3,
   "metadata": {},
   "outputs": [
    {
     "data": {
      "image/png": "[encoded data removed]",
      "text/plain": [
       "<Figure size 720x360 with 1 Axes>"
      ]
     },
     "metadata": {},
     "output_type": "display_data"
    },
    {
     "name": "stdout",
     "output_type": "stream",
     "text": [
      "FEATURES INCLUÍDAS EM CADA STEP\n",
      "0 : ['pri_qtd_tot_emp', 'pri_qtd_tot_emp_atv', 'pri_qtd_tot_def', 'pri_emp_abt', 'pri_emp_san', 'pri_emp_tom']\n",
      "1 : ['pri_qtd_tot_emp', 'pri_qtd_tot_emp_atv', 'pri_qtd_tot_def', 'pri_emp_abt', 'pri_emp_san']\n",
      "2 : ['pri_qtd_tot_emp', 'pri_qtd_tot_emp_atv', 'pri_qtd_tot_def', 'pri_emp_abt']\n",
      "3 : ['pri_qtd_tot_emp_atv', 'pri_qtd_tot_def', 'pri_emp_abt']\n",
      "4 : ['pri_qtd_tot_emp_atv', 'pri_qtd_tot_def']\n",
      "5 : ['pri_qtd_tot_emp_atv']\n"
     ]
    }
   ],
   "source": [
    "plt.style.use('dark_background')\n",
    "plt.rcParams['figure.figsize'] = (10, 5)\n",
    "d = my_stepwise(df, 'default')\n",
    "\n",
    "\n",
    "plot_vals = []\n",
    "for i in d.keys():\n",
    "    plot_vals.append(d[i][0])\n",
    "    \n",
    "plt.plot(plot_vals)\n",
    "plt.show()\n",
    "\n",
    "print('FEATURES INCLUÍDAS EM CADA STEP')\n",
    "for i in d.keys():\n",
    "    fs = d[i][1].remove('default')\n",
    "    print(i , ':', d[i][1])"
   ]
  },
  {
   "cell_type": "code",
   "execution_count": null,
   "metadata": {},
   "outputs": [],
   "source": []
  }
 ],
 "metadata": {
  "kernelspec": {
   "display_name": "Python 3",
   "language": "python",
   "name": "python3"
  },
  "language_info": {
   "codemirror_mode": {
    "name": "ipython",
    "version": 3
   },
   "file_extension": ".py",
   "mimetype": "text/x-python",
   "name": "python",
   "nbconvert_exporter": "python",
   "pygments_lexer": "ipython3",
   "version": "3.7.4"
  }
 },
 "nbformat": 4,
 "nbformat_minor": 2
}
