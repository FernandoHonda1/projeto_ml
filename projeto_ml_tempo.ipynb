{
 "cells": [
  {
   "cell_type": "code",
   "execution_count": 1,
   "metadata": {},
   "outputs": [],
   "source": [
    "import numpy as np\n",
    "import matplotlib.pyplot as plt\n",
    "import pandas as pd\n",
    "from scipy.stats import pearsonr\n",
    "from sklearn.impute import SimpleImputer\n",
    "from sklearn.preprocessing import KBinsDiscretizer\n",
    "from scipy.stats import chi2_contingency\n",
    "from scipy.stats import chi2\n",
    "\n",
    "df = pd.read_pickle('treino.pkl.gz')"
   ]
  },
  {
   "cell_type": "code",
   "execution_count": 2,
   "metadata": {},
   "outputs": [],
   "source": [
    "plt.style.use('dark_background')\n",
    "plt.rcParams['figure.figsize'] = (20, 8)"
   ]
  },
  {
   "cell_type": "code",
   "execution_count": 3,
   "metadata": {},
   "outputs": [
    {
     "name": "stdout",
     "output_type": "stream",
     "text": [
      "186523\n",
      "186523\n",
      "186523\n"
     ]
    }
   ],
   "source": [
    "print(len(df))\n",
    "print(df['tem_med_emp'].isnull().value_counts().sum())\n",
    "print(df['tem_pri_emp'].isnull().value_counts().sum())\n",
    "\n",
    "# series consistentes"
   ]
  },
  {
   "cell_type": "code",
   "execution_count": 4,
   "metadata": {},
   "outputs": [
    {
     "data": {
      "text/plain": [
       "array(['0yrs 8mon', '1yrs 1mon', '0yrs 5mon', '0yrs 10mon', '0yrs 0mon',\n",
       "       '1yrs 4mon', '1yrs 11mon', '0yrs 11mon', '2yrs 1mon', '2yrs 3mon',\n",
       "       '0yrs 7mon', '0yrs 6mon', '3yrs 3mon', '4yrs 1mon', '2yrs 4mon',\n",
       "       '1yrs 5mon', '1yrs 0mon', '2yrs 2mon', '2yrs 0mon', '1yrs 6mon',\n",
       "       '1yrs 7mon', '1yrs 3mon', '0yrs 3mon', '1yrs 2mon', '3yrs 8mon',\n",
       "       '0yrs 9mon', '0yrs 4mon', '2yrs 10mon', '3yrs 1mon', '1yrs 10mon',\n",
       "       '4yrs 8mon', '1yrs 8mon', '3yrs 0mon', '2yrs 6mon', '2yrs 7mon',\n",
       "       '7yrs 9mon', '1yrs 9mon', '0yrs 2mon', '8yrs 0mon', '3yrs 9mon',\n",
       "       '3yrs 5mon', '2yrs 9mon', '5yrs 2mon', '2yrs 5mon', '3yrs 7mon',\n",
       "       '3yrs 10mon', '3yrs 6mon', '14yrs 0mon', '7yrs 3mon', '3yrs 2mon',\n",
       "       '2yrs 8mon', '7yrs 5mon', '0yrs 1mon', '5yrs 6mon', '6yrs 0mon',\n",
       "       '4yrs 3mon', '7yrs 10mon', '5yrs 3mon', '6yrs 1mon', '4yrs 5mon',\n",
       "       '5yrs 7mon', '5yrs 9mon', '6yrs 2mon', '4yrs 4mon', '6yrs 7mon',\n",
       "       '4yrs 0mon', '10yrs 8mon', '4yrs 10mon', '4yrs 2mon', '3yrs 4mon',\n",
       "       '3yrs 11mon', '4yrs 9mon', '10yrs 11mon', '2yrs 11mon',\n",
       "       '4yrs 7mon', '6yrs 5mon', '4yrs 6mon', '5yrs 5mon', '5yrs 8mon',\n",
       "       '12yrs 4mon', '7yrs 6mon', '10yrs 0mon', '7yrs 1mon', '4yrs 11mon',\n",
       "       '5yrs 4mon', '7yrs 4mon', '5yrs 11mon', '6yrs 9mon', '6yrs 10mon',\n",
       "       '5yrs 0mon', '11yrs 1mon', '6yrs 6mon', '12yrs 5mon', '6yrs 11mon',\n",
       "       '11yrs 5mon', '7yrs 2mon', '10yrs 9mon', '6yrs 3mon', '9yrs 5mon',\n",
       "       '5yrs 1mon', '7yrs 0mon', '9yrs 10mon', '9yrs 4mon', '6yrs 8mon',\n",
       "       '9yrs 8mon', '9yrs 3mon', '10yrs 2mon', '11yrs 7mon', '8yrs 7mon',\n",
       "       '5yrs 10mon', '11yrs 9mon', '8yrs 6mon', '8yrs 1mon', '11yrs 3mon',\n",
       "       '10yrs 6mon', '15yrs 2mon', '14yrs 8mon', '12yrs 9mon',\n",
       "       '6yrs 4mon', '9yrs 9mon', '7yrs 7mon', '8yrs 2mon', '12yrs 3mon',\n",
       "       '14yrs 11mon', '8yrs 5mon', '10yrs 5mon', '10yrs 7mon',\n",
       "       '8yrs 11mon', '9yrs 11mon', '8yrs 3mon', '11yrs 2mon',\n",
       "       '11yrs 11mon', '11yrs 4mon', '12yrs 0mon', '9yrs 6mon',\n",
       "       '13yrs 0mon', '8yrs 9mon', '7yrs 11mon', '9yrs 1mon', '13yrs 1mon',\n",
       "       '7yrs 8mon', '8yrs 8mon', '9yrs 2mon', '8yrs 4mon', '11yrs 8mon',\n",
       "       '10yrs 10mon', '9yrs 7mon', '12yrs 1mon', '11yrs 0mon',\n",
       "       '10yrs 1mon', '11yrs 6mon', '12yrs 11mon', '13yrs 5mon',\n",
       "       '13yrs 10mon', '14yrs 1mon', '10yrs 4mon', '13yrs 8mon',\n",
       "       '11yrs 10mon', '16yrs 7mon', '8yrs 10mon', '12yrs 2mon',\n",
       "       '13yrs 3mon', '15yrs 5mon', '14yrs 7mon', '13yrs 4mon',\n",
       "       '12yrs 6mon', '12yrs 7mon', '10yrs 3mon', '14yrs 6mon',\n",
       "       '13yrs 6mon', '15yrs 0mon', '15yrs 4mon', '9yrs 0mon',\n",
       "       '12yrs 10mon', '15yrs 3mon', '14yrs 3mon', '15yrs 11mon',\n",
       "       '17yrs 10mon', '13yrs 2mon', '13yrs 11mon', '16yrs 0mon',\n",
       "       '14yrs 2mon', '13yrs 7mon', '14yrs 5mon', '18yrs 11mon',\n",
       "       '16yrs 3mon', '30yrs 9mon', '22yrs 6mon', '16yrs 11mon'],\n",
       "      dtype=object)"
      ]
     },
     "execution_count": 4,
     "metadata": {},
     "output_type": "execute_result"
    }
   ],
   "source": [
    "# em que formato se encontram os dados de 'tem_med_emp' ?\n",
    "\n",
    "df['tem_med_emp'].unique()\n",
    "\n",
    "# percebe-se que todos possuem inteiros, seguidos de 'yrs' e 'mon', (anos, meses)\n",
    "# não é possível fazer um único slice para separar anos e meses, posto que meses e anos podem ter um ou dois \n",
    "# dígitos"
   ]
  },
  {
   "cell_type": "code",
   "execution_count": 5,
   "metadata": {},
   "outputs": [
    {
     "data": {
      "text/plain": [
       "array(['5yrs 5mon', '1yrs 1mon', '1yrs 4mon', '3yrs 1mon', '0yrs 0mon',\n",
       "       '1yrs 11mon', '1yrs 3mon', '2yrs 1mon', '2yrs 3mon', '0yrs 7mon',\n",
       "       '0yrs 6mon', '16yrs 11mon', '9yrs 5mon', '2yrs 7mon', '4yrs 2mon',\n",
       "       '2yrs 6mon', '0yrs 10mon', '2yrs 0mon', '3yrs 0mon', '13yrs 4mon',\n",
       "       '5yrs 10mon', '1yrs 9mon', '1yrs 0mon', '4yrs 8mon', '1yrs 7mon',\n",
       "       '3yrs 8mon', '0yrs 3mon', '1yrs 6mon', '1yrs 5mon', '1yrs 10mon',\n",
       "       '0yrs 9mon', '5yrs 6mon', '0yrs 11mon', '3yrs 2mon', '4yrs 4mon',\n",
       "       '2yrs 10mon', '0yrs 8mon', '6yrs 3mon', '3yrs 6mon', '6yrs 4mon',\n",
       "       '6yrs 9mon', '2yrs 2mon', '3yrs 5mon', '7yrs 0mon', '4yrs 3mon',\n",
       "       '1yrs 2mon', '3yrs 4mon', '4yrs 10mon', '5yrs 4mon', '4yrs 11mon',\n",
       "       '4yrs 0mon', '5yrs 3mon', '3yrs 9mon', '6yrs 2mon', '2yrs 11mon',\n",
       "       '13yrs 10mon', '4yrs 1mon', '0yrs 4mon', '2yrs 4mon', '7yrs 9mon',\n",
       "       '2yrs 5mon', '0yrs 2mon', '16yrs 0mon', '1yrs 8mon', '3yrs 11mon',\n",
       "       '5yrs 1mon', '11yrs 4mon', '4yrs 6mon', '2yrs 9mon', '5yrs 0mon',\n",
       "       '0yrs 5mon', '11yrs 11mon', '14yrs 0mon', '13yrs 7mon',\n",
       "       '2yrs 8mon', '9yrs 10mon', '0yrs 1mon', '3yrs 3mon', '11yrs 1mon',\n",
       "       '8yrs 4mon', '7yrs 11mon', '5yrs 8mon', '10yrs 4mon', '6yrs 0mon',\n",
       "       '5yrs 9mon', '3yrs 7mon', '4yrs 9mon', '5yrs 7mon', '7yrs 10mon',\n",
       "       '6yrs 5mon', '6yrs 1mon', '4yrs 5mon', '10yrs 7mon', '9yrs 1mon',\n",
       "       '7yrs 7mon', '8yrs 7mon', '3yrs 10mon', '11yrs 9mon', '13yrs 1mon',\n",
       "       '6yrs 8mon', '7yrs 2mon', '14yrs 6mon', '8yrs 3mon', '4yrs 7mon',\n",
       "       '10yrs 8mon', '6yrs 11mon', '9yrs 3mon', '6yrs 7mon', '10yrs 0mon',\n",
       "       '15yrs 10mon', '8yrs 1mon', '8yrs 9mon', '8yrs 5mon', '12yrs 0mon',\n",
       "       '14yrs 7mon', '13yrs 0mon', '11yrs 0mon', '11yrs 8mon',\n",
       "       '10yrs 10mon', '10yrs 11mon', '5yrs 11mon', '12yrs 3mon',\n",
       "       '15yrs 9mon', '8yrs 8mon', '11yrs 7mon', '12yrs 7mon',\n",
       "       '12yrs 4mon', '7yrs 4mon', '6yrs 10mon', '6yrs 6mon', '9yrs 6mon',\n",
       "       '10yrs 6mon', '7yrs 1mon', '18yrs 11mon', '7yrs 5mon', '9yrs 0mon',\n",
       "       '9yrs 8mon', '14yrs 9mon', '12yrs 6mon', '7yrs 6mon', '13yrs 6mon',\n",
       "       '5yrs 2mon', '12yrs 10mon', '9yrs 7mon', '7yrs 3mon', '9yrs 4mon',\n",
       "       '7yrs 8mon', '11yrs 5mon', '11yrs 6mon', '8yrs 11mon',\n",
       "       '19yrs 10mon', '11yrs 10mon', '10yrs 9mon', '11yrs 3mon',\n",
       "       '10yrs 5mon', '13yrs 11mon', '9yrs 11mon', '8yrs 0mon',\n",
       "       '10yrs 1mon', '15yrs 7mon', '16yrs 9mon', '9yrs 2mon', '8yrs 2mon',\n",
       "       '12yrs 2mon', '13yrs 9mon', '8yrs 10mon', '15yrs 2mon',\n",
       "       '10yrs 2mon', '17yrs 10mon', '10yrs 3mon', '13yrs 2mon',\n",
       "       '12yrs 1mon', '9yrs 9mon', '11yrs 2mon', '16yrs 10mon',\n",
       "       '12yrs 11mon', '18yrs 0mon', '8yrs 6mon', '13yrs 5mon',\n",
       "       '17yrs 6mon', '20yrs 5mon', '13yrs 3mon', '14yrs 8mon',\n",
       "       '14yrs 2mon', '16yrs 8mon', '16yrs 4mon', '12yrs 5mon',\n",
       "       '22yrs 3mon', '15yrs 3mon', '14yrs 11mon', '15yrs 0mon',\n",
       "       '14yrs 10mon', '14yrs 3mon', '15yrs 1mon', '13yrs 8mon',\n",
       "       '16yrs 3mon', '12yrs 8mon', '12yrs 9mon', '17yrs 7mon',\n",
       "       '23yrs 6mon', '18yrs 2mon', '22yrs 11mon', '19yrs 3mon',\n",
       "       '16yrs 6mon', '34yrs 5mon', '22yrs 4mon', '17yrs 11mon',\n",
       "       '15yrs 8mon', '27yrs 3mon', '17yrs 3mon', '20yrs 1mon',\n",
       "       '14yrs 1mon', '15yrs 6mon', '22yrs 7mon', '15yrs 5mon',\n",
       "       '29yrs 1mon', '22yrs 1mon', '15yrs 11mon', '14yrs 4mon',\n",
       "       '18yrs 5mon', '16yrs 7mon', '21yrs 3mon', '25yrs 8mon',\n",
       "       '20yrs 11mon', '19yrs 4mon', '19yrs 5mon', '15yrs 4mon',\n",
       "       '24yrs 4mon', '19yrs 0mon', '17yrs 2mon', '19yrs 7mon',\n",
       "       '17yrs 4mon', '19yrs 6mon', '24yrs 8mon', '14yrs 5mon',\n",
       "       '20yrs 0mon', '29yrs 7mon', '24yrs 2mon', '28yrs 9mon',\n",
       "       '16yrs 2mon', '19yrs 11mon', '25yrs 7mon', '16yrs 1mon',\n",
       "       '25yrs 11mon', '20yrs 6mon', '16yrs 5mon', '20yrs 9mon',\n",
       "       '17yrs 1mon', '18yrs 6mon', '24yrs 0mon', '22yrs 6mon',\n",
       "       '20yrs 4mon', '17yrs 5mon', '22yrs 10mon', '19yrs 1mon',\n",
       "       '17yrs 9mon', '17yrs 8mon', '21yrs 5mon', '26yrs 3mon',\n",
       "       '28yrs 7mon', '17yrs 0mon', '27yrs 4mon', '28yrs 1mon',\n",
       "       '18yrs 1mon', '19yrs 9mon', '22yrs 0mon', '39yrs 0mon',\n",
       "       '25yrs 6mon', '26yrs 8mon', '19yrs 8mon', '21yrs 9mon',\n",
       "       '24yrs 7mon', '37yrs 5mon', '21yrs 2mon', '20yrs 10mon',\n",
       "       '18yrs 10mon', '23yrs 3mon', '20yrs 8mon', '20yrs 2mon',\n",
       "       '25yrs 0mon', '18yrs 4mon', '21yrs 1mon', '22yrs 2mon',\n",
       "       '23yrs 2mon', '30yrs 7mon', '21yrs 11mon', '35yrs 3mon',\n",
       "       '18yrs 8mon', '28yrs 3mon', '30yrs 9mon', '23yrs 1mon'],\n",
       "      dtype=object)"
      ]
     },
     "execution_count": 5,
     "metadata": {},
     "output_type": "execute_result"
    }
   ],
   "source": [
    "df['tem_pri_emp'].unique()"
   ]
  },
  {
   "cell_type": "code",
   "execution_count": 6,
   "metadata": {},
   "outputs": [],
   "source": [
    "# pretendo transformar os valores em meses apenas (1 ano = 12 meses)\n",
    "def time_unit_unification(x):\n",
    "    sub1 = x.split(' ')[0]\n",
    "    sub2 = x.split(' ')[1]\n",
    "    return (int(sub1.strip('yrs')) * 12) + int(sub2.strip('mon'))\n",
    "\n",
    "df['tem_med_emp'] = df['tem_med_emp'].apply(lambda x: time_unit_unification(x))\n",
    "df['tem_pri_emp'] = df['tem_pri_emp'].apply(lambda x: time_unit_unification(x))"
   ]
  },
  {
   "cell_type": "code",
   "execution_count": 7,
   "metadata": {},
   "outputs": [
    {
     "name": "stdout",
     "output_type": "stream",
     "text": [
      "39.0\n"
     ]
    },
    {
     "data": {
      "image/png": "[encoded data removed]",
      "text/plain": [
       "<Figure size 1440x576 with 1 Axes>"
      ]
     },
     "metadata": {},
     "output_type": "display_data"
    }
   ],
   "source": [
    "# categorização de 'tem_pri_emp'\n",
    "print(df['tem_pri_emp'].max() / 12)\n",
    "plt.hist(df['tem_pri_emp'])\n",
    "plt.show()\n",
    "\n",
    "# o range inicial é 0-39 anos\n",
    "# a princípio, não eliminarei outliers"
   ]
  },
  {
   "cell_type": "code",
   "execution_count": 8,
   "metadata": {},
   "outputs": [
    {
     "name": "stdout",
     "output_type": "stream",
     "text": [
      "51.15\n",
      "51.25\n"
     ]
    }
   ],
   "source": [
    "# durante o cálculo do threshold de percentis, percebo que há grande proporção de zeros\n",
    "# nestes casos, suponho que se trate de alguém que nunca tomou empréstimos (desconsidero a possibilidade de\n",
    "# o empréstimo ter sido tomado a menos de um mês)\n",
    "print(round(len(df.loc[df['tem_pri_emp'] == 0]) / len(df) * 100, 2))\n",
    "# mais o menos metade dos dados não possuem histórico de empréstimos (a análise dos scores corrobora esta\n",
    "# informação)\n",
    "\n",
    "# imagino que 'tem_med_emp' trará algo semelhante\n",
    "print(round(len(df.loc[df['tem_med_emp'] == 0]) / len(df) * 100, 2))"
   ]
  },
  {
   "cell_type": "code",
   "execution_count": 9,
   "metadata": {},
   "outputs": [],
   "source": [
    "# prosseguirei com a categorização, alocando zeros sob o um único label, e dividindo valores remanescentes\n",
    "# em percentis"
   ]
  },
  {
   "cell_type": "code",
   "execution_count": 10,
   "metadata": {},
   "outputs": [],
   "source": [
    "# 'tem_pri_emp'\n",
    "\n",
    "# retornando à categorização\n",
    "\n",
    "df_time_pri = df.loc[df['tem_pri_emp'] != 0]\n",
    "df_no_time_pri = df.loc[df['tem_pri_emp'] == 0]\n",
    "\n",
    "time_pri_thrshld1 = np.quantile(df_time_pri['tem_pri_emp'], 0.33)\n",
    "time_pri_thrshld2 = np.quantile(df_time_pri['tem_pri_emp'], 0.66)"
   ]
  },
  {
   "cell_type": "code",
   "execution_count": 12,
   "metadata": {},
   "outputs": [],
   "source": [
    "def categorize_time(x, threshold1, threshold2):\n",
    "    if x == 0:\n",
    "        return 'no_time'\n",
    "    if x > 0 and x <= threshold1:\n",
    "        return 'low'\n",
    "    if x > threshold1 and x <= threshold2:\n",
    "        return 'medium'\n",
    "    if x > threshold2:\n",
    "        return 'high'\n",
    "    \n",
    "df['tem_pri_emp'] = df['tem_pri_emp'].apply(lambda x: categorize_time(x, time_pri_thrshld1,\n",
    "                                                                         time_pri_thrshld2))"
   ]
  },
  {
   "cell_type": "code",
   "execution_count": 13,
   "metadata": {},
   "outputs": [
    {
     "name": "stdout",
     "output_type": "stream",
     "text": [
      "high 18.06\n",
      "low 20.62\n",
      "medium 21.66\n",
      "no_time 23.13\n"
     ]
    }
   ],
   "source": [
    "for i in df['tem_pri_emp'].unique():\n",
    "    print(i, round(df.loc[df['tem_pri_emp'] == i, 'default'].value_counts(1).iloc[1] * 100, 2))\n",
    "    \n",
    "# percebe-se que 'no_time' possui a incidência de 'default' mais alta, 'low' e 'medium' estão próximos,\n",
    "# e 'high' possui incidência consideravelmente mais baixa"
   ]
  },
  {
   "cell_type": "code",
   "execution_count": 14,
   "metadata": {},
   "outputs": [
    {
     "data": {
      "text/html": [
       "<div>\n",
       "<style scoped>\n",
       "    .dataframe tbody tr th:only-of-type {\n",
       "        vertical-align: middle;\n",
       "    }\n",
       "\n",
       "    .dataframe tbody tr th {\n",
       "        vertical-align: top;\n",
       "    }\n",
       "\n",
       "    .dataframe thead th {\n",
       "        text-align: right;\n",
       "    }\n",
       "</style>\n",
       "<table border=\"1\" class=\"dataframe\">\n",
       "  <thead>\n",
       "    <tr style=\"text-align: right;\">\n",
       "      <th>default</th>\n",
       "      <th>0</th>\n",
       "      <th>1</th>\n",
       "    </tr>\n",
       "    <tr>\n",
       "      <th>tem_pri_emp</th>\n",
       "      <th></th>\n",
       "      <th></th>\n",
       "    </tr>\n",
       "  </thead>\n",
       "  <tbody>\n",
       "    <tr>\n",
       "      <th>high</th>\n",
       "      <td>25350</td>\n",
       "      <td>5587</td>\n",
       "    </tr>\n",
       "    <tr>\n",
       "      <th>low</th>\n",
       "      <td>25042</td>\n",
       "      <td>6506</td>\n",
       "    </tr>\n",
       "    <tr>\n",
       "      <th>medium</th>\n",
       "      <td>22431</td>\n",
       "      <td>6202</td>\n",
       "    </tr>\n",
       "    <tr>\n",
       "      <th>no_time</th>\n",
       "      <td>73338</td>\n",
       "      <td>22067</td>\n",
       "    </tr>\n",
       "  </tbody>\n",
       "</table>\n",
       "</div>"
      ],
      "text/plain": [
       "default          0      1\n",
       "tem_pri_emp              \n",
       "high         25350   5587\n",
       "low          25042   6506\n",
       "medium       22431   6202\n",
       "no_time      73338  22067"
      ]
     },
     "execution_count": 14,
     "metadata": {},
     "output_type": "execute_result"
    }
   ],
   "source": [
    "pd.crosstab(df['tem_pri_emp'], df['default'])"
   ]
  },
  {
   "cell_type": "code",
   "execution_count": 15,
   "metadata": {},
   "outputs": [],
   "source": [
    "est, p, dof, exp = chi2_contingency(pd.crosstab(df['tem_pri_emp'], df['default']))"
   ]
  },
  {
   "cell_type": "code",
   "execution_count": 16,
   "metadata": {},
   "outputs": [
    {
     "data": {
      "text/plain": [
       "array([[24242.49479689,  6694.50520311],\n",
       "       [24721.27956338,  6826.72043662],\n",
       "       [22437.06091474,  6195.93908526],\n",
       "       [74760.16472499, 20644.83527501]])"
      ]
     },
     "execution_count": 16,
     "metadata": {},
     "output_type": "execute_result"
    }
   ],
   "source": [
    "exp"
   ]
  },
  {
   "cell_type": "code",
   "execution_count": 17,
   "metadata": {},
   "outputs": [
    {
     "data": {
      "text/plain": [
       "378.0745835004401"
      ]
     },
     "execution_count": 17,
     "metadata": {},
     "output_type": "execute_result"
    }
   ],
   "source": [
    "est"
   ]
  },
  {
   "cell_type": "code",
   "execution_count": 18,
   "metadata": {},
   "outputs": [
    {
     "data": {
      "text/plain": [
       "49.542155758766434"
      ]
     },
     "execution_count": 18,
     "metadata": {},
     "output_type": "execute_result"
    }
   ],
   "source": [
    "chi2.ppf(df = dof, q = 0.9999999999)"
   ]
  },
  {
   "cell_type": "code",
   "execution_count": 19,
   "metadata": {},
   "outputs": [
    {
     "name": "stdout",
     "output_type": "stream",
     "text": [
      "low 20.23\n",
      "medium 20.21\n",
      "no_time 23.15\n",
      "high 19.7\n"
     ]
    }
   ],
   "source": [
    "# 'tem_med_emp'\n",
    "\n",
    "df_time_med = df.loc[df['tem_med_emp'] != 0]\n",
    "df_no_time_med = df.loc[df['tem_med_emp'] == 0]\n",
    "\n",
    "time_med_thrshld1 = np.quantile(df_time_pri['tem_med_emp'], 0.33)\n",
    "time_med_thrshld2 = np.quantile(df_time_pri['tem_med_emp'], 0.66)\n",
    "\n",
    "df['tem_med_emp'] = df['tem_med_emp'].apply(lambda x: categorize_time(x, time_med_thrshld1,\n",
    "                                                                            time_med_thrshld2))\n",
    "\n",
    "for i in df['tem_med_emp'].unique():\n",
    "    print(i, round(df.loc[df['tem_med_emp'] == i, 'default'].value_counts(1).iloc[1] * 100, 2))\n",
    "    \n",
    "    \n",
    "# comportamento semelhante ao de 'tem_pri_emp', 'high' possui incidência mais baixa"
   ]
  },
  {
   "cell_type": "code",
   "execution_count": 20,
   "metadata": {},
   "outputs": [
    {
     "data": {
      "text/html": [
       "<div>\n",
       "<style scoped>\n",
       "    .dataframe tbody tr th:only-of-type {\n",
       "        vertical-align: middle;\n",
       "    }\n",
       "\n",
       "    .dataframe tbody tr th {\n",
       "        vertical-align: top;\n",
       "    }\n",
       "\n",
       "    .dataframe thead th {\n",
       "        text-align: right;\n",
       "    }\n",
       "</style>\n",
       "<table border=\"1\" class=\"dataframe\">\n",
       "  <thead>\n",
       "    <tr style=\"text-align: right;\">\n",
       "      <th>default</th>\n",
       "      <th>0</th>\n",
       "      <th>1</th>\n",
       "    </tr>\n",
       "    <tr>\n",
       "      <th>tem_med_emp</th>\n",
       "      <th></th>\n",
       "      <th></th>\n",
       "    </tr>\n",
       "  </thead>\n",
       "  <tbody>\n",
       "    <tr>\n",
       "      <th>high</th>\n",
       "      <td>24818</td>\n",
       "      <td>6090</td>\n",
       "    </tr>\n",
       "    <tr>\n",
       "      <th>low</th>\n",
       "      <td>24620</td>\n",
       "      <td>6245</td>\n",
       "    </tr>\n",
       "    <tr>\n",
       "      <th>medium</th>\n",
       "      <td>23259</td>\n",
       "      <td>5892</td>\n",
       "    </tr>\n",
       "    <tr>\n",
       "      <th>no_time</th>\n",
       "      <td>73464</td>\n",
       "      <td>22135</td>\n",
       "    </tr>\n",
       "  </tbody>\n",
       "</table>\n",
       "</div>"
      ],
      "text/plain": [
       "default          0      1\n",
       "tem_med_emp              \n",
       "high         24818   6090\n",
       "low          24620   6245\n",
       "medium       23259   5892\n",
       "no_time      73464  22135"
      ]
     },
     "execution_count": 20,
     "metadata": {},
     "output_type": "execute_result"
    }
   ],
   "source": [
    "pd.crosstab(df['tem_med_emp'], df['default'])"
   ]
  },
  {
   "cell_type": "code",
   "execution_count": 24,
   "metadata": {},
   "outputs": [],
   "source": [
    "est, p, dof, exp = chi2_contingency(pd.crosstab(df['tem_med_emp'], df['default']))"
   ]
  },
  {
   "cell_type": "code",
   "execution_count": 25,
   "metadata": {},
   "outputs": [
    {
     "data": {
      "text/plain": [
       "array([[24219.77015167,  6688.22984833],\n",
       "       [24186.07498807,  6678.92501193],\n",
       "       [22842.97009484,  6308.02990516],\n",
       "       [74912.18476542, 20686.81523458]])"
      ]
     },
     "execution_count": 25,
     "metadata": {},
     "output_type": "execute_result"
    }
   ],
   "source": [
    "exp"
   ]
  },
  {
   "cell_type": "code",
   "execution_count": 26,
   "metadata": {},
   "outputs": [
    {
     "data": {
      "text/plain": [
       "268.6535915892789"
      ]
     },
     "execution_count": 26,
     "metadata": {},
     "output_type": "execute_result"
    }
   ],
   "source": [
    "est"
   ]
  },
  {
   "cell_type": "code",
   "execution_count": 27,
   "metadata": {},
   "outputs": [
    {
     "data": {
      "text/plain": [
       "49.542155758766434"
      ]
     },
     "execution_count": 27,
     "metadata": {},
     "output_type": "execute_result"
    }
   ],
   "source": [
    "chi2.ppf(df = dof, q = 0.9999999999)"
   ]
  },
  {
   "cell_type": "code",
   "execution_count": null,
   "metadata": {},
   "outputs": [],
   "source": []
  }
 ],
 "metadata": {
  "kernelspec": {
   "display_name": "Python 3",
   "language": "python",
   "name": "python3"
  },
  "language_info": {
   "codemirror_mode": {
    "name": "ipython",
    "version": 3
   },
   "file_extension": ".py",
   "mimetype": "text/x-python",
   "name": "python",
   "nbconvert_exporter": "python",
   "pygments_lexer": "ipython3",
   "version": "3.7.4"
  }
 },
 "nbformat": 4,
 "nbformat_minor": 2
}
